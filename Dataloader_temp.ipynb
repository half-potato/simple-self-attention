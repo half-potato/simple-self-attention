{
 "cells": [
  {
   "cell_type": "code",
   "execution_count": 29,
   "metadata": {},
   "outputs": [],
   "source": [
    "import pandas as pd\n",
    "import re\n",
    "import spacy\n",
    "import numpy as np\n",
    "import gzip\n",
    "import gensim.downloader\n",
    "import torch\n",
    "from torch.utils.data import Dataset, DataLoader\n",
    "import pickle"
   ]
  },
  {
   "cell_type": "code",
   "execution_count": 7,
   "metadata": {},
   "outputs": [
    {
     "name": "stderr",
     "output_type": "stream",
     "text": [
      "/home/sour/.local/lib/python3.6/site-packages/ipykernel_launcher.py:7: FutureWarning: Sorting because non-concatenation axis is not aligned. A future version\n",
      "of pandas will change to not sort by default.\n",
      "\n",
      "To accept the future behavior, pass 'sort=False'.\n",
      "\n",
      "To retain the current behavior and silence the warning, pass 'sort=True'.\n",
      "\n",
      "  import sys\n"
     ]
    },
    {
     "data": {
      "text/html": [
       "<div>\n",
       "<style scoped>\n",
       "    .dataframe tbody tr th:only-of-type {\n",
       "        vertical-align: middle;\n",
       "    }\n",
       "\n",
       "    .dataframe tbody tr th {\n",
       "        vertical-align: top;\n",
       "    }\n",
       "\n",
       "    .dataframe thead th {\n",
       "        text-align: right;\n",
       "    }\n",
       "</style>\n",
       "<table border=\"1\" class=\"dataframe\">\n",
       "  <thead>\n",
       "    <tr style=\"text-align: right;\">\n",
       "      <th></th>\n",
       "      <th>id</th>\n",
       "      <th>isTrain</th>\n",
       "      <th>keyword</th>\n",
       "      <th>location</th>\n",
       "      <th>target</th>\n",
       "      <th>text</th>\n",
       "      <th>tags</th>\n",
       "      <th>links</th>\n",
       "      <th>hashtags</th>\n",
       "      <th>number_of_tags</th>\n",
       "      <th>number_of_links</th>\n",
       "      <th>number_of_hashs</th>\n",
       "      <th>clean_text</th>\n",
       "    </tr>\n",
       "  </thead>\n",
       "  <tbody>\n",
       "    <tr>\n",
       "      <th>7331</th>\n",
       "      <td>10492</td>\n",
       "      <td>True</td>\n",
       "      <td>wildfire</td>\n",
       "      <td>Amsterdam | San Francisco</td>\n",
       "      <td>1.0</td>\n",
       "      <td>'Some hearths they burn like a wildfire' https...</td>\n",
       "      <td>[]</td>\n",
       "      <td>[https://t.co/of3td6DGLb]</td>\n",
       "      <td>[]</td>\n",
       "      <td>0</td>\n",
       "      <td>1</td>\n",
       "      <td>0</td>\n",
       "      <td>'Some hearths they burn like a wildfire'  by B...</td>\n",
       "    </tr>\n",
       "    <tr>\n",
       "      <th>3546</th>\n",
       "      <td>5069</td>\n",
       "      <td>True</td>\n",
       "      <td>famine</td>\n",
       "      <td>PanamÌÁ</td>\n",
       "      <td>0.0</td>\n",
       "      <td>Top 3:\\n* Turn on the Darkness\\n* King Redeem ...</td>\n",
       "      <td>[]</td>\n",
       "      <td>[]</td>\n",
       "      <td>[]</td>\n",
       "      <td>0</td>\n",
       "      <td>0</td>\n",
       "      <td>0</td>\n",
       "      <td>Top 3:\\n* Turn on the Darkness\\n* King Redeem ...</td>\n",
       "    </tr>\n",
       "    <tr>\n",
       "      <th>5938</th>\n",
       "      <td>8480</td>\n",
       "      <td>True</td>\n",
       "      <td>screamed</td>\n",
       "      <td>pissing off antis</td>\n",
       "      <td>0.0</td>\n",
       "      <td>I SCREAMED 'WHATS A CHONCe' http://t.co/GXYivs...</td>\n",
       "      <td>[]</td>\n",
       "      <td>[http://t.co/GXYivsWki7]</td>\n",
       "      <td>[]</td>\n",
       "      <td>0</td>\n",
       "      <td>1</td>\n",
       "      <td>0</td>\n",
       "      <td>I SCREAMED 'WHATS A CHONCe'</td>\n",
       "    </tr>\n",
       "    <tr>\n",
       "      <th>1632</th>\n",
       "      <td>5504</td>\n",
       "      <td>False</td>\n",
       "      <td>flames</td>\n",
       "      <td>NaN</td>\n",
       "      <td>NaN</td>\n",
       "      <td>This is gonna go down in flames ?? https://t.c...</td>\n",
       "      <td>[]</td>\n",
       "      <td>[https://t.co/pjOG1LcYYV]</td>\n",
       "      <td>[]</td>\n",
       "      <td>0</td>\n",
       "      <td>1</td>\n",
       "      <td>0</td>\n",
       "      <td>This is gonna go down in flames ??</td>\n",
       "    </tr>\n",
       "    <tr>\n",
       "      <th>6752</th>\n",
       "      <td>9673</td>\n",
       "      <td>True</td>\n",
       "      <td>tornado</td>\n",
       "      <td>Midwest</td>\n",
       "      <td>1.0</td>\n",
       "      <td>(OK)  Severe Thunderstorm Warning issued Augus...</td>\n",
       "      <td>[]</td>\n",
       "      <td>[http://t.co/O8X4M5eR6b]</td>\n",
       "      <td>[#okwx]</td>\n",
       "      <td>0</td>\n",
       "      <td>1</td>\n",
       "      <td>1</td>\n",
       "      <td>OK  Severe Thunderstorm Warning issued August ...</td>\n",
       "    </tr>\n",
       "  </tbody>\n",
       "</table>\n",
       "</div>"
      ],
      "text/plain": [
       "         id  isTrain   keyword                   location  target  \\\n",
       "7331  10492     True  wildfire  Amsterdam | San Francisco     1.0   \n",
       "3546   5069     True    famine                   PanamÌÁ      0.0   \n",
       "5938   8480     True  screamed          pissing off antis     0.0   \n",
       "1632   5504    False    flames                        NaN     NaN   \n",
       "6752   9673     True   tornado                    Midwest     1.0   \n",
       "\n",
       "                                                   text tags  \\\n",
       "7331  'Some hearths they burn like a wildfire' https...   []   \n",
       "3546  Top 3:\\n* Turn on the Darkness\\n* King Redeem ...   []   \n",
       "5938  I SCREAMED 'WHATS A CHONCe' http://t.co/GXYivs...   []   \n",
       "1632  This is gonna go down in flames ?? https://t.c...   []   \n",
       "6752  (OK)  Severe Thunderstorm Warning issued Augus...   []   \n",
       "\n",
       "                          links hashtags  number_of_tags  number_of_links  \\\n",
       "7331  [https://t.co/of3td6DGLb]       []               0                1   \n",
       "3546                         []       []               0                0   \n",
       "5938   [http://t.co/GXYivsWki7]       []               0                1   \n",
       "1632  [https://t.co/pjOG1LcYYV]       []               0                1   \n",
       "6752   [http://t.co/O8X4M5eR6b]  [#okwx]               0                1   \n",
       "\n",
       "      number_of_hashs                                         clean_text  \n",
       "7331                0  'Some hearths they burn like a wildfire'  by B...  \n",
       "3546                0  Top 3:\\n* Turn on the Darkness\\n* King Redeem ...  \n",
       "5938                0                        I SCREAMED 'WHATS A CHONCe'  \n",
       "1632                0                 This is gonna go down in flames ??  \n",
       "6752                1  OK  Severe Thunderstorm Warning issued August ...  "
      ]
     },
     "execution_count": 7,
     "metadata": {},
     "output_type": "execute_result"
    }
   ],
   "source": [
    "# train = pd.read_csv(\"./nlp-getting-started/train.csv\")\n",
    "# test = pd.read_csv(\"./nlp-getting-started/test.csv\")\n",
    "\n",
    "# train[\"isTrain\"] = True\n",
    "# test[\"isTrain\"] = False\n",
    "\n",
    "# full = pd.concat([train, test])\n",
    "# # print(full)\n",
    "\n",
    "# def clean_text(row):\n",
    "#     clean = row[\"text\"]\n",
    "    \n",
    "#     if len(row[\"tags\"]) != 0:\n",
    "#         for word in row[\"tags\"]:\n",
    "#             clean = clean.replace(word, \"\")\n",
    "    \n",
    "#     if len(row[\"links\"]) != 0:\n",
    "#         for word in row[\"links\"]:\n",
    "#             clean = clean.replace(word, \"\")\n",
    "    \n",
    "#     #only remove the # symbol\n",
    "#     clean = clean.replace(\"#\", \"\").replace(\"/\", \"\").replace(\"(\", \"\").replace(\")\", \"\")\n",
    "    \n",
    "#     return clean.strip()\n",
    "\n",
    "# def get_at(row):\n",
    "#     return re.findall(\"@[\\w]+\", row[\"text\"])\n",
    "\n",
    "# def get_http(row):\n",
    "#     return re.findall(\"http[\\:\\/\\.\\w]+\", row[\"text\"])\n",
    "\n",
    "# def get_hashtags(row):\n",
    "#     return re.findall(\"#[\\w]+\", row[\"text\"])\n",
    "\n",
    "# def number_of_tags(row):\n",
    "#     return len(row[\"tags\"])\n",
    "\n",
    "# def number_of_links(row):\n",
    "#     return len(row[\"links\"])\n",
    "\n",
    "# def number_of_hashs(row):\n",
    "#     return len(row[\"hashtags\"])\n",
    "\n",
    "# full[\"tags\"] = full.apply(lambda row: get_at(row), axis = 1)\n",
    "# full[\"links\"] = full.apply(lambda row: get_http(row), axis = 1)\n",
    "# full[\"hashtags\"] = full.apply(lambda row: get_hashtags(row), axis = 1)\n",
    "\n",
    "# full[\"number_of_tags\"] = full.apply(lambda row: number_of_tags(row), axis = 1)\n",
    "# full[\"number_of_links\"] = full.apply(lambda row: number_of_links(row), axis = 1)\n",
    "# full[\"number_of_hashs\"] = full.apply(lambda row: number_of_hashs(row), axis = 1)\n",
    "\n",
    "# full[\"clean_text\"] = full.apply(lambda row: clean_text(row), axis = 1)\n",
    "# full.sample(5)"
   ]
  },
  {
   "cell_type": "code",
   "execution_count": 30,
   "metadata": {},
   "outputs": [
    {
     "name": "stdout",
     "output_type": "stream",
     "text": [
      "[['Rockwell', 'International', \"Corp.'s\", 'Tulsa', 'unit', 'said', 'it', 'signed', 'a', 'tentative', 'agreement', 'extending', 'its', 'contract', 'with', 'Boeing', 'Co.', 'to', 'provide', 'structural', 'parts', 'for', \"Boeing's\", '747', 'jetliners', '.'], ['Rockwell', 'said', 'the', 'agreement', 'calls', 'for', 'it', 'to', 'supply', '200', 'additional', 'so-called', 'shipsets', 'for', 'the', 'planes', '.'], ['These', 'include', ',', 'among', 'other', 'parts', ',', 'each', \"jetliner's\", 'two', 'major', 'bulkheads', ',', 'a', 'pressure', 'floor', ',', 'torque', 'box', ',', 'fixed', 'leading', 'edges', 'for', 'the', 'wings', 'and', 'an', 'aft', 'keel', 'beam', '.'], ['Under', 'the', 'existing', 'contract', ',', 'Rockwell', 'said', ',', 'it', 'has', 'already', 'delivered', '793', 'of', 'the', 'shipsets', 'to', 'Boeing', '.'], ['Rockwell', ',', 'based', 'in', 'El', 'Segundo', ',', 'Calif.', ',', 'is', 'an', 'aerospace', ',', 'electronics', ',', 'automotive', 'and', 'graphics', 'concern', '.'], ['Frank', 'Carlucci', 'III', 'was', 'named', 'to', 'this', 'telecommunications', \"company's\", 'board', ',', 'filling', 'the', 'vacancy', 'created', 'by', 'the', 'death', 'of', 'William', 'Sobey', 'last', 'May', '.'], ['Mr.', 'Carlucci', ',', '59', 'years', 'old', ',', 'served', 'as', 'defense', 'secretary', 'in', 'the', 'Reagan', 'administration', '.'], ['In', 'January', ',', 'he', 'accepted', 'the', 'position', 'of', 'vice', 'chairman', 'of', 'Carlyle', 'Group', ',', 'a', 'merchant', 'banking', 'concern', '.'], ['SHEARSON', 'LEHMAN', 'HUTTON', 'Inc', '.'], ['Thomas', 'E.', 'Meador', ',', '42', 'years', 'old', ',', 'was', 'named', 'president', 'and', 'chief', 'operating', 'officer', 'of', 'Balcor', 'Co.', ',', 'a', 'Skokie', ',', 'Ill.', ',', 'subsidiary', 'of', 'this', 'New', 'York', 'investment', 'banking', 'firm', '.'], ['Balcor', ',', 'which', 'has', 'interests', 'in', 'real', 'estate', ',', 'said', 'the', 'position', 'is', 'newly', 'created', '.'], ['Mr.', 'Meador', 'had', 'been', 'executive', 'vice', 'president', 'of', 'Balcor', '.'], ['In', 'addition', 'to', 'his', 'previous', 'real-estate', 'investment', 'and', 'asset-management', 'duties', ',', 'Mr.', 'Meador', 'takes', 'responsibility', 'for', 'development', 'and', 'property', 'management', '.'], ['Those', 'duties', 'had', 'been', 'held', 'by', 'Van', 'Pell', ',', '44', ',', 'who', 'resigned', 'as', 'an', 'executive', 'vice', 'president', '.'], ['Shearson', 'is', 'about', '60%-held', 'by', 'American', 'Express', 'Co', '.'], ['Great', 'American', 'Bank', ',', 'citing', 'depressed', 'Arizona', 'real', 'estate', 'prices', ',', 'posted', 'a', 'third-quarter', 'loss', 'of', '$', '59.4', 'million', ',', 'or', '$', '2.48', 'a', 'share', '.'], ['A', 'year', 'earlier', ',', 'the', 'savings', 'bank', 'had', 'earnings', 'of', '$', '8.1', 'million', ',', 'or', '33', 'cents', 'a', 'share', '.'], ['For', 'the', 'nine', 'months', ',', 'it', 'had', 'a', 'loss', 'of', '$', '58.3', 'million', ',', 'or', '$', '2.44', 'a', 'share', ',', 'after', 'earnings', 'of', '$', '29.5', 'million', ',', 'or', '$', '1.20', 'a', 'share', ',', 'in', 'the', '1988', 'period', '.'], ['Great', 'American', 'said', 'it', 'increased', 'its', 'loan-loss', 'reserves', 'by', '$', '93', 'million', 'after', 'reviewing', 'its', 'loan', 'portfolio', ',', 'raising', 'its', 'total', 'loan', 'and', 'real', 'estate', 'reserves', 'to', '$', '217', 'million', '.'], ['Before', 'the', 'loan-loss', 'addition', ',', 'it', 'said', ',', 'it', 'had', 'operating', 'profit', 'of', '$', '10', 'million', 'for', 'the', 'quarter', '.'], ['The', 'move', 'followed', 'a', 'round', 'of', 'similar', 'increases', 'by', 'other', 'lenders', 'against', 'Arizona', 'real', 'estate', 'loans', ',', 'reflecting', 'a', 'continuing', 'decline', 'in', 'that', 'market', '.'], ['In', 'addition', 'to', 'the', 'increased', 'reserve', ',', 'the', 'savings', 'bank', 'took', 'a', 'special', 'charge', 'of', '$', '5', 'million', 'representing', 'general', 'and', 'administrative', 'expenses', 'from', 'staff', 'reductions', 'and', 'other', 'matters', ',', 'and', 'it', 'posted', 'a', '$', '7.6', 'million', 'reduction', 'in', 'expected', 'mortgage', 'servicing', 'fees', ',', 'reflecting', 'the', 'fact', 'that', 'more', 'borrowers', 'are', 'prepaying', 'their', 'mortgages', '.'], ['Arbitragers', 'were', \"n't\", 'the', 'only', 'big', 'losers', 'in', 'the', 'collapse', 'of', 'UAL', 'Corp.', 'stock', '.'], ['Look', 'at', 'what', 'happened', 'to', \"UAL's\", 'chairman', ',', 'Stephen', 'M.', 'Wolf', ',', 'and', 'its', 'chief', 'financial', 'officer', ',', 'John', 'C.', 'Pope', '.'], ['On', 'a', 'day', 'some', 'United', 'Airlines', 'employees', 'wanted', 'Mr.', 'Wolf', 'fired', 'and', 'takeover', 'stock', 'speculators', 'wanted', 'his', 'scalp', ',', 'Messrs.', 'Wolf', 'and', 'Pope', 'saw', 'their', 'prospective', 'personal', 'fortunes', 'continue', 'to', 'plummet', 'as', 'shares', 'of', 'UAL', ',', \"United's\", 'parent', 'company', ',', 'dived', '$', '24.875', 'on', 'the', 'Big', 'Board', 'to', 'close', 'at', '$', '198', '.'], ['Including', \"Monday's\", 'plunge', ',', 'that', 'has', 'given', 'the', 'two', 'executives', 'paper', 'losses', 'of', '$', '49.5', 'million', ',', 'based', 'on', 'what', 'they', 'would', 'have', 'realized', 'had', 'the', 'pilots', 'and', 'management-led', 'buy-out', 'of', 'UAL', 'gone', 'through', 'at', '$', '300', 'a', 'share', '.'], ['When', 'bank', 'financing', 'for', 'the', 'buy-out', 'collapsed', 'last', 'week', ',', 'so', 'did', \"UAL's\", 'stock', '.'], ['Even', 'if', 'the', 'banks', 'resurrect', 'a', 'financing', 'package', 'at', '$', '250', 'a', 'share', ',', 'the', 'two', 'executives', 'would', 'still', 'get', 'about', '$', '25', 'million', 'less', 'than', 'they', 'stood', 'to', 'gain', 'in', 'the', 'initial', 'transaction', '.'], ['Mr.', 'Wolf', 'owns', '75,000', 'UAL', 'shares', 'and', 'has', 'options', 'to', 'buy', 'another', '250,000', 'at', '$', '83.3125', 'each', '.'], ['In', 'the', '$', '300-a-share', 'buyout', ',', 'that', 'totaled', 'about', '$', '76.7', 'million', '.'], ['By', \"yesterday's\", 'close', 'of', 'trading', ',', 'it', 'was', 'good', 'for', 'a', 'paltry', '$', '43.5', 'million', '.'], ['Of', 'course', ',', 'Mr.', 'Wolf', ',', '48', 'years', 'old', ',', 'has', 'some', 'savings', '.'], ['He', 'left', 'his', 'last', 'two', 'jobs', 'at', 'Republic', 'Airlines', 'and', 'Flying', 'Tiger', 'with', 'combined', 'stock-option', 'gains', 'of', 'about', '$', '22', 'million', ',', 'and', 'UAL', 'gave', 'him', 'a', '$', '15', 'million', 'bonus', 'when', 'it', 'hired', 'him', '.'], ['His', '1988', 'salary', 'was', '$', '575,000', ',', 'with', 'a', '$', '575,000', 'bonus', '.'], ['The', '40-year', 'old', 'Mr.', 'Pope', 'has', \"n't\", 'changed', 'jobs', 'enough', '--', 'at', 'least', 'the', 'right', 'ones', '--', 'to', 'stash', 'away', 'that', 'kind', 'of', 'money', '.'], ['United', 'paid', 'him', 'a', '$', '375,000', 'bonus', 'to', 'lure', 'him', 'away', 'from', 'American', 'Airlines', ',', 'and', 'he', 'was', 'paid', 'a', 'salary', 'of', '$', '342,122', 'last', 'year', 'with', 'a', '$', '280,000', 'bonus', '.'], ['Mr.', 'Pope', 'owns', '10,000', 'UAL', 'shares', 'and', 'has', 'options', 'to', 'buy', 'another', '150,000', 'at', '$', '69', 'each', '.'], ['That', 'came', 'to', 'a', 'combined', '$', '37.7', 'million', 'under', 'the', '$', '300-a-share', 'buy-out', ',', 'but', 'just', '$', '21.3', 'million', 'at', \"yesterday's\", 'close', '.'], ['Of', 'the', 'combined', '$', '114.4', 'million', 'the', 'two', 'men', 'were', 'scheduled', 'to', 'reap', 'under', 'the', 'buy-out', ',', 'they', 'agreed', 'to', 'invest', 'in', 'the', 'buy-out', 'just', '$', '15', 'million', ',', 'angering', 'many', 'of', 'the', 'thousands', 'of', 'workers', 'asked', 'to', 'make', 'pay', 'concessions', 'so', 'the', 'buy-out', 'would', 'be', 'a', 'success', '.'], [\"United's\", 'directors', 'voted', 'themselves', ',', 'and', 'their', 'spouses', ',', 'lifetime', 'access', 'to', 'the', 'Friendly', 'Skies', '--', 'free', 'first-class', 'travel', ',', 'and', '$', '20,000', 'a', 'year', 'for', 'life', 'as', 'well', '.'], ['Conceivably', ',', 'in', 'a', 'scaled-back', 'buy-out', ',', 'they', 'could', 'be', 'bumped', 'back', 'to', 'coach', 'seats', 'for', 'life', '.'], ['Thomas', 'H.', 'Johnson', ',', 'president', 'of', 'the', 'Coatedboard', 'division', 'of', 'Mead', 'Corp.', ',', 'was', 'named', 'president', 'of', 'Manville', 'Forest', 'Products', 'Corp.', ',', 'a', 'Manville', 'unit', ',', 'and', 'senior', 'vice', 'president', 'of', 'Manville', 'Corp', '.'], ['Mr.', 'Johnson', 'succeeds', 'Harry', 'W.', 'Sherman', ',', 'who', 'resigned', 'to', 'pursue', 'other', 'interests', ',', 'in', 'both', 'positions', '.'], ['Manville', 'is', 'a', 'building', 'and', 'forest', 'products', 'concern', '.'], ['US', 'Facilities', 'Corp.', 'said', 'Robert', 'J.', 'Percival', 'agreed', 'to', 'step', 'down', 'as', 'vice', 'chairman', 'of', 'the', 'insurance', 'holding', 'company', '.'], ['``', 'There', 'was', 'a', 'difference', 'of', 'opinion', 'as', 'to', 'the', 'future', 'direction', 'of', 'the', 'company', ',', \"''\", 'a', 'spokeswoman', 'said', '.'], ['Mr.', 'Percival', 'declined', 'to', 'comment', '.'], ['In', 'a', 'statement', ',', 'US', 'Facilities', 'said', 'Mr.', \"Percival's\", 'employment', 'contract', 'calls', 'for', 'him', 'to', 'act', 'as', 'a', 'consultant', 'to', 'the', 'company', 'for', 'two', 'years', '.'], ['He', 'will', 'also', 'remain', 'a', 'director', ',', 'US', 'Facilities', 'said', ',', 'but', 'wo', \"n't\", 'serve', 'on', 'any', 'board', 'committees', '.'], ['Mr.', 'Percival', 'will', 'be', 'succeeded', 'on', 'an', 'interim', 'basis', 'by', 'George', 'Kadonada', ',', 'US', 'Facilities', 'chairman', 'and', 'president', '.'], ['In', 'the', 'same', 'statement', ',', 'US', 'Facilities', 'also', 'said', 'it', 'had', 'bought', 'back', '112,000', 'of', 'its', 'common', 'shares', 'in', 'a', 'private', 'transaction', '.'], ['Terms', 'were', \"n't\", 'disclosed', '.'], ['The', 'buy-back', 'represents', 'about', '3', '%', 'of', 'the', \"company's\", 'shares', ',', 'based', 'on', 'the', '3.7', 'million', 'shares', 'outstanding', 'as', 'of', 'Sept.', '30', '.'], ['In', 'national', 'over-the-counter', 'trading', 'yesterday', ',', 'US', 'Facilities', 'closed', 'at', '$', '3.625', ',', 'unchanged', '.'], ['Three', 'leading', 'drug', 'companies', 'reported', 'robust', 'third-quarter', 'earnings', ',', 'bolstered', 'by', 'strong', 'sales', 'of', 'newer', ',', 'big-selling', 'prescriptions', 'drugs', 'that', 'provide', 'hefty', 'profit', 'margins', '.'], ['Merck', '&', 'Co.', 'reported', 'a', '25', '%', 'increase', 'in', 'earnings', ';', 'Warner-Lambert', \"Co.'s\", 'profit', 'rose', '22', '%', 'and', 'Eli', 'Lilly', '&', \"Co.'s\", 'net', 'income', 'rose', '24', '%', '.'], ['The', 'results', 'were', 'in', 'line', 'with', 'analysts', \"'\", 'expectations', '.'], ['Merck', '&', 'Co', '.'], ['Merck', ',', 'Rahway', ',', 'N.J.', ',', 'continued', 'to', 'lead', 'the', 'industry', 'with', 'a', 'strong', 'sales', 'performance', 'in', 'the', 'human', 'and', 'animal', 'health-products', 'segment', '.'], ['A', 'stronger', 'U.S.', 'dollar', 'reduced', 'third-quarter', 'and', 'first-nine-month', 'sales', 'growth', '2', '%', 'and', '3', '%', ',', 'respectively', '.'], ['International', 'sales', 'accounted', 'for', '47', '%', 'of', 'total', 'company', 'sales', 'for', 'the', 'nine', 'months', ',', 'compared', 'with', '50', '%', 'a', 'year', 'earlier', '.'], ['Sales', 'for', 'the', 'quarter', 'rose', 'to', '$', '1.63', 'billion', 'from', '$', '1.47', 'billion', '.'], ['Mevacor', ',', \"Merck's\", 'new', 'cholesterol-lowering', 'drug', ',', 'had', 'higher', 'sales', 'than', 'any', 'other', 'prescription', 'medicine', 'has', 'ever', 'achieved', 'in', 'the', 'U.S.', 'in', 'the', 'year', 'following', 'introduction', ',', 'the', 'company', 'said', '.'], ['The', 'drug', 'was', 'introduced', 'in', 'West', 'Germany', 'this', 'year', '.'], ['Intense', 'competition', ',', 'however', ',', 'led', 'to', 'unit', 'sales', 'declines', 'for', 'a', 'group', 'of', \"Merck's\", 'established', 'human', 'and', 'animal-health', 'products', ',', 'including', 'Aldomet', 'and', 'Indocin', '.'], ['In', 'New', 'York', 'Stock', 'Exchange', 'composite', 'trading', 'yesterday', ',', 'Merck', 'shares', 'closed', 'at', '$', '75.25', ',', 'up', '50', 'cents', '.'], ['Warner-Lambert', 'Co', '.'], ['Warner-Lambert', ',', 'Morris', 'Plains', ',', 'N.J.', ',', 'reported', 'sales', 'that', 'were', 'a', 'record', 'for', 'any', 'quarter', 'and', 'the', 'eighth', 'quarter', 'in', 'a', 'row', 'of', '20', '%', 'or', 'more', 'per-share', 'earnings', 'growth', '.'], ['Spurred', 'by', 'growth', 'in', 'world-wide', 'sales', 'of', 'the', \"company's\", 'prescription', 'drugs', ',', 'Warner-Lambert', 'said', '1989', 'will', 'be', 'the', 'best', 'year', 'in', 'its', 'history', ',', 'with', 'per-share', 'earnings', 'expected', 'to', 'increase', 'more', 'than', '20', '%', 'to', 'about', '$', '6.10', '.'], ['Sales', 'for', 'the', 'quarter', 'rose', 'to', '$', '1.11', 'billion', 'from', '$', '1.03', 'billion', '.'], ['Prescription-drug', 'world-wide', 'sales', 'rose', '9', '%', 'in', 'the', 'quarter', 'to', '$', '340', 'million', ';', 'U.S.', 'sales', 'rose', '15', '%', '.'], ['The', \"segment's\", 'growth', 'was', 'led', 'by', 'sales', 'of', 'the', 'cardiovascular', 'drugs', 'Lopid', ',', 'a', 'lipid', 'regulator', ',', 'and', 'Dilzem', ',', 'a', 'calcium', 'channel', 'blocker', '.'], ['World-wide', 'sales', 'of', \"Warner-Lambert's\", 'non-prescription', 'health-care', 'products', ',', 'such', 'as', 'Halls', 'cough', 'tablets', ',', 'Rolaids', 'antacid', ',', 'and', 'Lubriderm', 'skin', 'lotion', ',', 'increased', '3', '%', 'to', '$', '362', 'million', 'in', 'the', 'third', 'quarter', ';', 'U.S.', 'sales', 'rose', '5', '%', '.'], ['Confectionery', 'products', 'sales', 'also', 'had', 'strong', 'growth', 'in', 'the', 'quarter', '.'], ['World-wide', 'sales', 'of', 'Trident', 'gum', ',', 'Certs', 'breath', 'mints', ',', 'and', 'Clorets', 'gum', 'and', 'breath', 'mints', ',', 'increased', '12', '%', 'to', '$', '277', 'million', '.'], ['Warner-Lambert', 'shares', 'closed', 'at', '$', '109.50', 'a', 'share', ',', 'up', '$', '1.50', ',', 'in', 'Big', 'Board', 'composite', 'trading', 'yesterday', '.'], ['Eli', 'Lilly', '&', 'Co', '.'], ['Lilly', 'attributed', 'record', 'third-quarter', 'and', 'nine-month', 'results', 'to', 'world-wide', 'gains', 'for', 'pharmaceuticals', ',', 'medical', 'instruments', 'and', 'plant-science', 'products', 'despite', 'poor', 'exchange', 'rates', 'for', 'the', 'dollar', 'that', 'slowed', 'sales', 'abroad', '.'], ['Earnings', 'continued', 'to', 'pace', 'sales', 'because', 'of', 'a', 'lower', 'tax', 'rate', ',', 'profit', 'from', 'the', 'renegotiation', 'of', 'the', 'debt', 'instrument', 'received', 'from', 'Faberge', 'Inc.', 'in', 'connection', 'with', \"Lilly's\", 'sale', 'of', 'Elizabeth', 'Arden', 'Inc.', 'in', '1987', ',', 'and', 'net', 'proceeds', 'from', 'the', 'settlement', 'of', 'patent', 'litigation', 'at', \"Lilly's\", 'Hybritech', 'Inc.', 'unit', '.'], ['Third-quarter', 'sales', 'of', 'the', 'Indianapolis', ',', 'Ind.', ',', 'company', 'rose', '11', '%', 'to', '$', '1.045', 'billion', 'from', '$', '940.6', 'million', '.'], ['Nine-month', 'sales', 'grew', '12', '%', 'to', '$', '3.39', 'billion', 'from', '$', '3.03', 'billion', 'a', 'year', 'earlier', '.'], ['Sales', 'of', 'Prozac', ',', 'an', 'anti-depressant', ',', 'led', 'drug-sales', 'increases', '.'], ['Higher', 'sales', 'of', 'pesticides', 'and', 'other', 'plant-science', 'products', 'more', 'than', 'offset', 'a', 'slight', 'decline', 'in', 'the', 'sales', 'of', 'animal-health', 'products', 'to', 'fuel', 'the', 'increase', 'in', 'world-wide', 'agricultural', 'product', 'sales', ',', 'Lilly', 'said', '.'], ['Advanced', 'Cardiovascular', 'Systems', 'Inc.', 'and', 'Cardiac', 'Pacemakers', 'Inc.', 'units', 'led', 'growth', 'in', 'the', 'medical-instrument', 'systems', 'division', '.'], ['Lilly', 'shares', 'closed', 'yesterday', 'in', 'composite', 'trading', 'on', 'the', 'Big', 'Board', 'at', '$', '62.25', ',', 'down', '12.5', 'cents', '.'], ['Reuben', 'Mark', ',', 'chairman', 'of', 'Colgate-Palmolive', 'Co.', ',', 'said', 'he', 'is', '``', 'comfortable', \"''\", 'with', 'analysts', \"'\", 'estimates', 'that', 'third-quarter', 'earnings', 'rose', 'to', 'between', '95', 'cents', 'and', '$', '1.05', 'a', 'share', '.'], ['That', 'compares', 'with', 'per-share', 'earnings', 'from', 'continuing', 'operations', 'of', '69', 'cents', 'the', 'year', 'earlier', ';', 'including', 'discontinued', 'operations', ',', 'per-share', 'was', '88', 'cents', 'a', 'year', 'ago', '.'], ['The', 'per-share', 'estimates', 'mean', 'the', 'consumer-products', \"company's\", 'net', 'income', ',', 'increased', 'to', 'between', '$', '69.5', 'million', 'and', '$', '76', 'million', ',', 'from', '$', '47.1', 'million', 'the', 'year-before', 'period', '.'], ['Analysts', 'estimate', \"Colgate's\", 'world-wide', 'third-quarter', 'sales', 'rose', 'about', '8', '%', 'to', '$', '1.29', 'billion', '.'], ['Mr.', 'Mark', 'attributed', 'the', 'earnings', 'growth', 'to', 'strong', 'sales', 'in', 'Latin', 'America', ',', 'Asia', 'and', 'Europe', '.'], ['Results', 'were', 'also', 'bolstered', 'by', '``', 'a', 'very', 'meaningful', \"''\", 'increase', 'in', 'operating', 'profit', 'by', \"Colgate's\", 'U.S.', 'business', ',', 'Mr.', 'Mark', 'said', '.'], ['Operating', 'profit', 'at', \"Colgate's\", 'U.S.', 'household', 'products', 'and', 'personal-care', 'businesses', 'jumped', '25', '%', 'in', 'the', 'quarter', ',', 'Mr.', 'Mark', 'added', '.'], ['He', 'said', 'the', 'improvement', 'was', 'a', 'result', 'of', 'cost', 'savings', 'achieved', 'by', 'consolidating', 'manufacturing', 'operations', ',', 'blending', 'two', 'sales', 'organizations', 'and', 'focusing', 'more', 'carefully', 'the', \"company's\", 'promotional', 'activities', '.'], ['The', 'estimated', 'improvement', 'in', \"Colgate's\", 'U.S.', 'operations', 'took', 'some', 'analysts', 'by', 'surprise', '.'], [\"Colgate's\", 'household', 'products', 'business', ',', 'which', 'includes', 'such', 'brands', 'as', 'Fab', 'laundry', 'detergent', 'and', 'Ajax', 'cleanser', ',', 'has', 'been', 'a', 'weak', 'performer', '.'], ['Analysts', 'estimate', \"Colgate's\", 'sales', 'of', 'household', 'products', 'in', 'the', 'U.S.', 'were', 'flat', 'for', 'the', 'quarter', ',', 'and', 'they', 'estimated', 'operating', 'margins', 'at', 'only', '1', '%', 'to', '3', '%', '.'], ['``', 'If', 'you', 'could', 'say', 'their', 'business', 'in', 'the', 'U.S.', 'was', 'mediocre', ',', 'but', 'great', 'everywhere', 'else', ',', 'that', 'would', 'be', 'fine', ',', \"''\", 'says', 'Bonita', 'Austin', ',', 'an', 'analyst', 'with', 'Wertheim', 'Schroder', '&', 'Co', '.'], ['``', 'But', \"it's\", 'not', 'mediocre', ',', \"it's\", 'a', 'real', 'problem', '.', \"''\"], ['Mr.', 'Mark', 'conceded', 'that', \"Colgate's\", 'domestic', 'business', ',', 'apart', 'from', 'its', 'highly', 'profitable', \"Hill's\", 'Pet', 'Products', 'unit', ',', 'has', 'lagged', '.'], ['``', 'We', \"'ve\", 'done', 'a', 'lot', 'to', 'improve', '-LCB-', 'U.S.', '.', '-RCB-', 'results', ',', 'and', 'a', 'lot', 'more', 'will', 'be', 'done', ',', \"''\", 'Mr.', 'Mark', 'said', '.']]\n",
      "2013\n"
     ]
    }
   ],
   "source": [
    "with gzip.open('./test.txt.gz', 'rt') as f:\n",
    "    lines = [x.rstrip('\\n') for x in f.readlines()]\n",
    "    \n",
    "    sentences = [[]]\n",
    "    idx = 0\n",
    "    for line in lines:\n",
    "        if line != '':\n",
    "            sentences[idx].append(line.split()[0])\n",
    "        else:\n",
    "            sentences.append([])\n",
    "            idx += 1\n",
    "            \n",
    "#     print(sentences[:100])\n",
    "    \n",
    "    for sentence in sentences:\n",
    "        for i, word in enumerate(sentence):\n",
    "            if word == \"'s\":\n",
    "                sentence[i-1] = sentence[i-1] + \"'s\"\n",
    "                del sentence[i]\n",
    "                \n",
    "    print(sentences[:100])\n",
    "    print(len(sentences))"
   ]
  },
  {
   "cell_type": "code",
   "execution_count": 31,
   "metadata": {},
   "outputs": [
    {
     "name": "stdout",
     "output_type": "stream",
     "text": [
      "[These, Rockwell, Carlucci, he, Meador, Meador, who, Shearson, Bank, bank]\n",
      "[0, 0, 1, 3, 1, 12, 11, 0, 2, 6]\n",
      "[['These', 'include', ',', 'among', 'other', 'parts', ',', 'each', \"jetliner's\", 'two', 'major', 'bulkheads', ',', 'a', 'pressure', 'floor', ',', 'torque', 'box', ',', 'fixed', 'leading', 'edges', 'for', 'the', 'wings', 'and', 'an', 'aft', 'keel', 'beam', '.'], ['Rockwell', ',', 'based', 'in', 'El', 'Segundo', ',', 'Calif.', ',', 'is', 'an', 'aerospace', ',', 'electronics', ',', 'automotive', 'and', 'graphics', 'concern', '.'], ['Mr.', 'Carlucci', ',', '59', 'years', 'old', ',', 'served', 'as', 'defense', 'secretary', 'in', 'the', 'Reagan', 'administration', '.'], ['In', 'January', ',', 'he', 'accepted', 'the', 'position', 'of', 'vice', 'chairman', 'of', 'Carlyle', 'Group', ',', 'a', 'merchant', 'banking', 'concern', '.'], ['Mr.', 'Meador', 'had', 'been', 'executive', 'vice', 'president', 'of', 'Balcor', '.'], ['In', 'addition', 'to', 'his', 'previous', 'real-estate', 'investment', 'and', 'asset-management', 'duties', ',', 'Mr.', 'Meador', 'takes', 'responsibility', 'for', 'development', 'and', 'property', 'management', '.'], ['Those', 'duties', 'had', 'been', 'held', 'by', 'Van', 'Pell', ',', '44', ',', 'who', 'resigned', 'as', 'an', 'executive', 'vice', 'president', '.'], ['Shearson', 'is', 'about', '60%-held', 'by', 'American', 'Express', 'Co', '.'], ['Great', 'American', 'Bank', ',', 'citing', 'depressed', 'Arizona', 'real', 'estate', 'prices', ',', 'posted', 'a', 'third-quarter', 'loss', 'of', '$', '59.4', 'million', ',', 'or', '$', '2.48', 'a', 'share', '.'], ['A', 'year', 'earlier', ',', 'the', 'savings', 'bank', 'had', 'earnings', 'of', '$', '8.1', 'million', ',', 'or', '33', 'cents', 'a', 'share', '.']]\n"
     ]
    }
   ],
   "source": [
    "nlp = spacy.load('en_core_web_sm')\n",
    "\n",
    "sub_toks = []\n",
    "sub_indices = []\n",
    "\n",
    "new_sentences = []\n",
    "\n",
    "for i, sentence in enumerate(sentences):\n",
    "    sent = ' '.join(sentence)\n",
    "#     print(sent)\n",
    "    doc = nlp(sent)\n",
    "    temp = [tok for tok in doc if (tok.dep_ == \"nsubj\")]\n",
    "    if len(temp) == 1:\n",
    "        if str(temp[0]) in sentence:\n",
    "            new_sentences.append(sentence)\n",
    "            sub_toks.append(temp[0])\n",
    "            sub_indices.append(sentence.index(str(temp[0])))\n",
    "            \n",
    "    if i + 1 % 200 == 0:\n",
    "        print('{} out of {} done'.format(i+1, len(sentences)))\n",
    "    \n",
    "print(sub_toks[:10])\n",
    "print(sub_indices[:10])\n",
    "print(new_sentences[:10])"
   ]
  },
  {
   "cell_type": "code",
   "execution_count": 32,
   "metadata": {},
   "outputs": [
    {
     "name": "stdout",
     "output_type": "stream",
     "text": [
      "881\n",
      "881\n",
      "881\n",
      "[['These', 'include', ',', 'among', 'other', 'parts', ',', 'each', \"jetliner's\", 'two', 'major', 'bulkheads', ',', 'a', 'pressure', 'floor', ',', 'torque', 'box', ',', 'fixed', 'leading', 'edges', 'for', 'the', 'wings', 'and', 'an', 'aft', 'keel', 'beam', '.'], ['Rockwell', ',', 'based', 'in', 'El', 'Segundo', ',', 'Calif.', ',', 'is', 'an', 'aerospace', ',', 'electronics', ',', 'automotive', 'and', 'graphics', 'concern', '.'], ['Mr.', 'Carlucci', ',', '59', 'years', 'old', ',', 'served', 'as', 'defense', 'secretary', 'in', 'the', 'Reagan', 'administration', '.'], ['In', 'January', ',', 'he', 'accepted', 'the', 'position', 'of', 'vice', 'chairman', 'of', 'Carlyle', 'Group', ',', 'a', 'merchant', 'banking', 'concern', '.'], ['Mr.', 'Meador', 'had', 'been', 'executive', 'vice', 'president', 'of', 'Balcor', '.'], ['In', 'addition', 'to', 'his', 'previous', 'real-estate', 'investment', 'and', 'asset-management', 'duties', ',', 'Mr.', 'Meador', 'takes', 'responsibility', 'for', 'development', 'and', 'property', 'management', '.'], ['Those', 'duties', 'had', 'been', 'held', 'by', 'Van', 'Pell', ',', '44', ',', 'who', 'resigned', 'as', 'an', 'executive', 'vice', 'president', '.'], ['Shearson', 'is', 'about', '60%-held', 'by', 'American', 'Express', 'Co', '.'], ['Great', 'American', 'Bank', ',', 'citing', 'depressed', 'Arizona', 'real', 'estate', 'prices', ',', 'posted', 'a', 'third-quarter', 'loss', 'of', '$', '59.4', 'million', ',', 'or', '$', '2.48', 'a', 'share', '.'], ['A', 'year', 'earlier', ',', 'the', 'savings', 'bank', 'had', 'earnings', 'of', '$', '8.1', 'million', ',', 'or', '33', 'cents', 'a', 'share', '.']]\n",
      "[These, Rockwell, Carlucci, he, Meador, Meador, who, Shearson, Bank, bank]\n",
      "[0, 0, 1, 3, 1, 12, 11, 0, 2, 6]\n"
     ]
    }
   ],
   "source": [
    "print(len(new_sentences))\n",
    "print(len(sub_toks))\n",
    "print(len(sub_indices))\n",
    "\n",
    "print(new_sentences[:10])\n",
    "print(sub_toks[:10])\n",
    "print(sub_indices[:10])\n",
    "\n",
    "pickle.dump({'sentences': new_sentences, 'sub_indices': sub_indices}, open('subdata_test.pkl', 'wb'))"
   ]
  },
  {
   "cell_type": "code",
   "execution_count": 46,
   "metadata": {},
   "outputs": [
    {
     "name": "stdout",
     "output_type": "stream",
     "text": [
      "['fasttext-wiki-news-subwords-300', 'conceptnet-numberbatch-17-06-300', 'word2vec-ruscorpora-300', 'word2vec-google-news-300', 'glove-wiki-gigaword-50', 'glove-wiki-gigaword-100', 'glove-wiki-gigaword-200', 'glove-wiki-gigaword-300', 'glove-twitter-25', 'glove-twitter-50', 'glove-twitter-100', 'glove-twitter-200', '__testing_word2vec-matrix-synopsis']\n"
     ]
    }
   ],
   "source": [
    "print(list(gensim.downloader.info()['models'].keys()))\n",
    "\n",
    "glove = gensim.downloader.load('glove-wiki-gigaword-200')"
   ]
  },
  {
   "cell_type": "code",
   "execution_count": 63,
   "metadata": {},
   "outputs": [
    {
     "name": "stdout",
     "output_type": "stream",
     "text": [
      "(2, 200)\n",
      "False\n"
     ]
    }
   ],
   "source": [
    "a = glove[['augusts', 'bye']]\n",
    "print(a.shape)\n",
    "print('Hi' in glove)"
   ]
  },
  {
   "cell_type": "code",
   "execution_count": 64,
   "metadata": {},
   "outputs": [],
   "source": [
    "class WordDataset(Dataset):\n",
    "    \n",
    "    def __init__(self, sfile):\n",
    "        d = pickle.load(open(sfile, 'rb'))\n",
    "        \n",
    "        self.sentences = d['sentences']\n",
    "        self.indices = d['sub_indices']\n",
    "        \n",
    "        for sent in self.sentences:\n",
    "            for i, word in enumerate(sent):\n",
    "                sent[i] = word.lower().replace(\"'\", \"\")\n",
    "                if sent[i] == '':\n",
    "                    del sent[i]\n",
    "        \n",
    "        self.glove = gensim.downloader.load('glove-wiki-gigaword-200')\n",
    "        \n",
    "        self.sentence_embeddings = []\n",
    "        \n",
    "        for sent in self.sentences:\n",
    "            temp = []\n",
    "            for word in sent:\n",
    "                if word in self.glove:\n",
    "                    temp.append(self.glove[word])\n",
    "            self.sentence_embeddings.append(np.array(temp))\n",
    "            \n",
    "    def __len__(self):\n",
    "        return len(self.sentence_embeddings)\n",
    "    \n",
    "    def __getitem__(self, idx):\n",
    "        return (self.sentences[idx], self.sentence_embeddings[idx], self.indices[idx])"
   ]
  },
  {
   "cell_type": "code",
   "execution_count": 65,
   "metadata": {},
   "outputs": [],
   "source": [
    "train_dataset = WordDataset('subdata.pkl')\n",
    "test_dataset = WordDataset('subdata_test.pkl')"
   ]
  },
  {
   "cell_type": "code",
   "execution_count": 68,
   "metadata": {},
   "outputs": [
    {
     "name": "stdout",
     "output_type": "stream",
     "text": [
      "(26, 200)\n"
     ]
    }
   ],
   "source": [
    "print(train_dataset[1][1].shape)"
   ]
  }
 ],
 "metadata": {
  "kernelspec": {
   "display_name": "Python 3",
   "language": "python",
   "name": "python3"
  },
  "language_info": {
   "codemirror_mode": {
    "name": "ipython",
    "version": 3
   },
   "file_extension": ".py",
   "mimetype": "text/x-python",
   "name": "python",
   "nbconvert_exporter": "python",
   "pygments_lexer": "ipython3",
   "version": "3.6.9"
  }
 },
 "nbformat": 4,
 "nbformat_minor": 4
}
