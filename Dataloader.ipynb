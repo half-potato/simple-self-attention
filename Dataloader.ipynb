{
 "cells": [
  {
   "cell_type": "code",
   "execution_count": 1,
   "metadata": {},
   "outputs": [],
   "source": [
    "import pandas as pd\n",
    "import re\n",
    "import spacy\n",
    "import numpy as np\n",
    "import gzip\n",
    "import gensim.downloader\n",
    "import torch\n",
    "from torch.utils.data import Dataset, DataLoader\n",
    "import pickle"
   ]
  },
  {
   "cell_type": "code",
   "execution_count": 2,
   "metadata": {},
   "outputs": [],
   "source": [
    "class WordDataset(Dataset):\n",
    "    \n",
    "    def __init__(self, sfile):\n",
    "        d = pickle.load(open(sfile, 'rb'))\n",
    "        \n",
    "        self.sentences = d['sentences']\n",
    "        self.indices = d['sub_indices']\n",
    "        \n",
    "        for sent in self.sentences:\n",
    "            for i, word in enumerate(sent):\n",
    "                sent[i] = word.lower().replace(\"'\", \"\")\n",
    "                if sent[i] == '':\n",
    "                    del sent[i]\n",
    "        \n",
    "        self.glove = gensim.downloader.load('glove-wiki-gigaword-200')\n",
    "        \n",
    "        self.sentence_embeddings = []\n",
    "        \n",
    "        for sent in self.sentences:\n",
    "            temp = []\n",
    "            for word in sent:\n",
    "                if word in self.glove:\n",
    "                    temp.append(self.glove[word])\n",
    "            self.sentence_embeddings.append(np.array(temp))\n",
    "            \n",
    "    def __len__(self):\n",
    "        return len(self.sentence_embeddings)\n",
    "    \n",
    "    def __getitem__(self, idx):\n",
    "        return (self.sentences[idx], self.sentence_embeddings[idx], self.indices[idx])"
   ]
  },
  {
   "cell_type": "code",
   "execution_count": 3,
   "metadata": {},
   "outputs": [],
   "source": [
    "train_dataset = WordDataset('subdata.pkl')\n",
    "test_dataset = WordDataset('subdata_test.pkl')"
   ]
  },
  {
   "cell_type": "code",
   "execution_count": 4,
   "metadata": {},
   "outputs": [
    {
     "name": "stdout",
     "output_type": "stream",
     "text": [
      "3586\n",
      "(['chancellor', 'of', 'the', 'exchequer', 'nigel', 'lawsons', 'restated', 'commitment', 'to', 'a', 'firm', 'monetary', 'policy', 'has', 'helped', 'to', 'prevent', 'a', 'freefall', 'in', 'sterling', 'over', 'the', 'past', 'week', '.'], array([[ 0.091849, -0.27507 , -0.040291, ...,  0.2757  , -0.25509 ,\n",
      "        -0.52322 ],\n",
      "       [ 0.052924,  0.25427 ,  0.31353 , ..., -0.086254, -0.41917 ,\n",
      "         0.46496 ],\n",
      "       [-0.071549,  0.093459,  0.023738, ...,  0.33617 ,  0.030591,\n",
      "         0.25577 ],\n",
      "       ...,\n",
      "       [-0.33563 ,  0.17808 , -0.43981 , ...,  0.39282 , -0.018467,\n",
      "         0.41027 ],\n",
      "       [-0.28622 ,  0.61687 , -0.42819 , ..., -0.049013,  0.040753,\n",
      "         0.057147],\n",
      "       [ 0.12289 ,  0.58037 , -0.069635, ..., -0.039174, -0.16236 ,\n",
      "        -0.096652]], dtype=float32), 7)\n",
      "881\n",
      "(['rockwell', ',', 'based', 'in', 'el', 'segundo', ',', 'calif.', ',', 'is', 'an', 'aerospace', ',', 'electronics', ',', 'automotive', 'and', 'graphics', 'concern', '.'], array([[ 0.13841  , -0.06384  , -0.068634 , ...,  0.34495  ,  0.21125  ,\n",
      "         0.090617 ],\n",
      "       [ 0.17651  ,  0.29208  , -0.0020768, ..., -0.20774  , -0.23189  ,\n",
      "        -0.10814  ],\n",
      "       [-0.22734  ,  0.34546  , -0.023183 , ...,  0.14618  ,  1.0556   ,\n",
      "         0.54662  ],\n",
      "       ...,\n",
      "       [-0.46115  ,  1.5459   ,  0.33715  , ..., -0.97396  ,  0.38103  ,\n",
      "        -0.55298  ],\n",
      "       [ 0.1304   ,  0.42816  ,  0.47821  , ..., -0.19757  ,  0.10443  ,\n",
      "         0.23713  ],\n",
      "       [ 0.12289  ,  0.58037  , -0.069635 , ..., -0.039174 , -0.16236  ,\n",
      "        -0.096652 ]], dtype=float32), 0)\n"
     ]
    }
   ],
   "source": [
    "print(len(train_dataset))\n",
    "print(train_dataset[1])\n",
    "\n",
    "print(len(test_dataset))\n",
    "print(test_dataset[1])"
   ]
  }
 ],
 "metadata": {
  "kernelspec": {
   "display_name": "Python 3",
   "language": "python",
   "name": "python3"
  },
  "language_info": {
   "codemirror_mode": {
    "name": "ipython",
    "version": 3
   },
   "file_extension": ".py",
   "mimetype": "text/x-python",
   "name": "python",
   "nbconvert_exporter": "python",
   "pygments_lexer": "ipython3",
   "version": "3.6.9"
  }
 },
 "nbformat": 4,
 "nbformat_minor": 4
}
