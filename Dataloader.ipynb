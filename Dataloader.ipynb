{
 "cells": [
  {
   "cell_type": "code",
   "execution_count": 83,
   "metadata": {},
   "outputs": [
    {
     "name": "stdout",
     "output_type": "stream",
     "text": [
      "The autoreload extension is already loaded. To reload it, use:\n",
      "  %reload_ext autoreload\n"
     ]
    }
   ],
   "source": [
    "%load_ext autoreload\n",
    "%autoreload 2\n",
    "import pandas as pd\n",
    "import re\n",
    "import spacy\n",
    "import numpy as np\n",
    "import gzip\n",
    "import gensim.downloader\n",
    "import torch\n",
    "from torch.utils.data import Dataset, DataLoader\n",
    "import pickle\n",
    "from model import SimpleAttention\n",
    "from tqdm import tqdm\n",
    "import time\n",
    "import random"
   ]
  },
  {
   "cell_type": "code",
   "execution_count": 57,
   "metadata": {},
   "outputs": [],
   "source": [
    "glove = gensim.downloader.load('glove-wiki-gigaword-200')"
   ]
  },
  {
   "cell_type": "code",
   "execution_count": 58,
   "metadata": {},
   "outputs": [],
   "source": [
    "class WordDataset(Dataset):\n",
    "    \n",
    "    def __init__(self, sfile):\n",
    "        print(\"Loading data\")\n",
    "        d = pickle.load(open(sfile, 'rb'))\n",
    "        \n",
    "        self.sentences = d['sentences']\n",
    "        self.indices = d['sub_indices']\n",
    "        \n",
    "        for i, sent in enumerate(self.sentences):\n",
    "            self.sentences[i] = [word.lower().replace(\"'\", \"\") for word in sent if sent and sent != \"''\"]\n",
    "        \n",
    "        print(\"Downloading\")\n",
    "        \n",
    "        self.sentence_embeddings = []\n",
    "        \n",
    "        print(\"Generating embeddings\")\n",
    "        for sent in tqdm(self.sentences):\n",
    "            try:\n",
    "                self.sentence_embeddings.append(glove[sent])\n",
    "            except:\n",
    "                continue\n",
    "            \n",
    "    def __len__(self):\n",
    "        return len(self.sentence_embeddings)\n",
    "    \n",
    "    def __getitem__(self, idx):\n",
    "        return (self.sentences[idx], self.sentence_embeddings[idx], self.indices[idx])"
   ]
  },
  {
   "cell_type": "code",
   "execution_count": 89,
   "metadata": {},
   "outputs": [
    {
     "name": "stdout",
     "output_type": "stream",
     "text": [
      "Loading data\n"
     ]
    },
    {
     "name": "stderr",
     "output_type": "stream",
     "text": [
      "  5%|▌         | 3780/70650 [00:00<00:01, 37789.76it/s]"
     ]
    },
    {
     "name": "stdout",
     "output_type": "stream",
     "text": [
      "Downloading\n",
      "Generating embeddings\n"
     ]
    },
    {
     "name": "stderr",
     "output_type": "stream",
     "text": [
      "100%|██████████| 70650/70650 [00:01<00:00, 56613.38it/s]\n"
     ]
    }
   ],
   "source": [
    "train_dataset = WordDataset('subdata_jpdy_train.pkl')"
   ]
  },
  {
   "cell_type": "code",
   "execution_count": 91,
   "metadata": {},
   "outputs": [
    {
     "name": "stderr",
     "output_type": "stream",
     "text": [
      " 76%|███████▌  | 5956/7853 [00:00<00:00, 59537.06it/s]"
     ]
    },
    {
     "name": "stdout",
     "output_type": "stream",
     "text": [
      "Loading data\n",
      "Downloading\n",
      "Generating embeddings\n"
     ]
    },
    {
     "name": "stderr",
     "output_type": "stream",
     "text": [
      "100%|██████████| 7853/7853 [00:00<00:00, 58754.99it/s]\n"
     ]
    }
   ],
   "source": [
    "test_dataset = WordDataset('subdata_jpdy_test.pkl')"
   ]
  },
  {
   "cell_type": "code",
   "execution_count": 92,
   "metadata": {},
   "outputs": [
    {
     "name": "stdout",
     "output_type": "stream",
     "text": [
      "21832\n",
      "2435\n"
     ]
    }
   ],
   "source": [
    "print(len(train_dataset))\n",
    "print(len(test_dataset))"
   ]
  },
  {
   "cell_type": "code",
   "execution_count": 94,
   "metadata": {},
   "outputs": [],
   "source": [
    "# device = torch.device('cuda')\n",
    "device = torch.device('cpu')\n",
    "model = SimpleAttention(200, 40, norm=False).to(device)\n",
    "# model.load_state_dict(torch.load('model40.pth'))\n",
    "# model.load_state_dict(torch.load('nonorm20.pth'))\n",
    "loss_fn = torch.nn.CrossEntropyLoss()"
   ]
  },
  {
   "cell_type": "code",
   "execution_count": null,
   "metadata": {},
   "outputs": [
    {
     "name": "stdout",
     "output_type": "stream",
     "text": [
      "Total loss 0: 2674.5068916485993, Test Accuracy: 0.08459959179162979, Accuracy: 0.07557713448149506, LR: [0.001], Time: 18.46752643585205\n"
     ]
    }
   ],
   "source": [
    "accum_freq = 100\n",
    "optim = torch.optim.Adam(model.parameters(), lr=1e-3)\n",
    "scheduler = torch.optim.lr_scheduler.StepLR(optim, 30, gamma=0.7)\n",
    "for epoch in range(200):\n",
    "    start_time = time.time()\n",
    "    total_loss = 0\n",
    "    total_acc = 0\n",
    "    accum = 0\n",
    "    ind_order = list(range(len(train_dataset)))\n",
    "    random.shuffle(ind_order)\n",
    "    for i in ind_order:\n",
    "        text, embed, ind = train_dataset[i]\n",
    "        ind = torch.Tensor([ind]).long().to(device)\n",
    "        if ind >= embed.shape[0]:\n",
    "            continue\n",
    "        embed = torch.Tensor(embed).unsqueeze(0).to(device)\n",
    "\n",
    "        predv, sim = model(embed)\n",
    "        loss = loss_fn(sim, ind)\n",
    "        accum += loss\n",
    "        total_loss += float(loss)\n",
    "        \n",
    "        acc = sim.max(dim=1).indices[0] == ind\n",
    "        total_acc += float(acc)\n",
    "        \n",
    "        if i % accum_freq == 0 and i > 0:\n",
    "            accum.backward()\n",
    "            optim.step()\n",
    "            optim.zero_grad()\n",
    "            accum = 0\n",
    "    correct = 0\n",
    "    for i in range(len(test_dataset)):\n",
    "        text, embed, ind = test_dataset[i]\n",
    "        embed = torch.Tensor(embed).unsqueeze(0).to(device)\n",
    "        predv, sim = model(embed)\n",
    "        predi = sim.max(dim=1).indices[0].cpu()\n",
    "        correct += predi == ind\n",
    "    print(f'Total loss {epoch}: {total_loss/len(train_dataset)}, Test Accuracy: {correct/len(test_dataset)}, Accuracy: {total_acc/len(train_dataset)}, LR: {scheduler.get_lr()}, Time: {time.time()-start_time}')\n",
    "    total_loss = 0\n",
    "    scheduler.step()"
   ]
  },
  {
   "cell_type": "code",
   "execution_count": 38,
   "metadata": {},
   "outputs": [
    {
     "name": "stdout",
     "output_type": "stream",
     "text": [
      "Accuracy: 0.2360953390598297\n"
     ]
    }
   ],
   "source": [
    "correct = 0\n",
    "for i in range(len(test_dataset)):\n",
    "    text, embed, ind = test_dataset[i]\n",
    "    embed = torch.Tensor(embed).unsqueeze(0)\n",
    "    predv, sim = model(embed)\n",
    "    predi = sim.max(dim=1).indices[0]\n",
    "    correct += predi == ind\n",
    "print(f'Accuracy: {correct/len(test_dataset)}')"
   ]
  },
  {
   "cell_type": "code",
   "execution_count": 18,
   "metadata": {},
   "outputs": [],
   "source": [
    "torch.save(model.state_dict(), 'nonorm40.pth')"
   ]
  },
  {
   "cell_type": "code",
   "execution_count": null,
   "metadata": {},
   "outputs": [],
   "source": []
  }
 ],
 "metadata": {
  "kernelspec": {
   "display_name": "Python 3",
   "language": "python",
   "name": "python3"
  },
  "language_info": {
   "codemirror_mode": {
    "name": "ipython",
    "version": 3
   },
   "file_extension": ".py",
   "mimetype": "text/x-python",
   "name": "python",
   "nbconvert_exporter": "python",
   "pygments_lexer": "ipython3",
   "version": "3.8.6"
  }
 },
 "nbformat": 4,
 "nbformat_minor": 4
}
